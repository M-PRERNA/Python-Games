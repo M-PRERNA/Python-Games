{
 "cells": [
  {
   "cell_type": "markdown",
   "metadata": {},
   "source": [
    "# The Ultimate Carnival Guessing Game!!!"
   ]
  },
  {
   "cell_type": "markdown",
   "metadata": {},
   "source": [
    "#### Welcome to the game!!!                                                                             \n"
   ]
  },
  {
   "cell_type": "markdown",
   "metadata": {},
   "source": [
    "## Guess the position of the hidden Ball and win an exciting prize!!!"
   ]
  },
  {
   "cell_type": "code",
   "execution_count": 15,
   "metadata": {},
   "outputs": [
    {
     "name": "stdout",
     "output_type": "stream",
     "text": [
      "pick the location of the ball from : 0,1 and 2 :0\n",
      "yay you won\n",
      "Here you go with your award from the lucky draw: \n",
      "Congratulations on winning a : rolls royce\n"
     ]
    }
   ],
   "source": [
    "from random import shuffle\n",
    "def shuffle_mygame(game):\n",
    "    shuffle(game)\n",
    "    return game\n",
    "def lucky_draw (prize_box):\n",
    "    shuffle(prize_box)\n",
    "    return prize_box\n",
    "\n",
    "def player_guess():\n",
    "    guess=''\n",
    "    while guess not in ['0','1','2']:\n",
    "        guess=input(\"pick the location of the ball from : 0,1 and 2 :\")\n",
    "        \n",
    "    return int(guess)\n",
    "\n",
    "def checker(my_list,random_index):\n",
    "    if my_list[random_index]=='O':\n",
    "        print(\"yay you won\")\n",
    "        print(\"Here you go with your award from the lucky draw: \")\n",
    "        print(\"Congratulations on winning a :\",prize_box[random_index])\n",
    "    else:\n",
    "        print(\"what a noob, try again!!\")\n",
    "        print(my_list)\n",
    "\n",
    "if __name__==\"__main__\":\n",
    "    game = [' ','O',' ']\n",
    "    prize_box = ['rolls royce','ferrari','lottery ticket no: 369','vanilla ice cream tub','chocolate milkshake','sweet-corn-soup','red-velvet cake','large Virgin Mohito','free tickets to disneyland','Netflix Id:you.winner.mail, password:youarethewinner','IPhone 12','spotify playlist','one dairy milk','reynolds ball pen','bosch headphones','aww...looks like you lost the draw!! :(']\n",
    "    \n",
    "    shuffled = shuffle_mygame(game)\n",
    "    index = player_guess()\n",
    "    checker(shuffled,index)\n",
    "    \n",
    "    \n"
   ]
  },
  {
   "cell_type": "code",
   "execution_count": null,
   "metadata": {},
   "outputs": [],
   "source": []
  }
 ],
 "metadata": {
  "kernelspec": {
   "display_name": "Python 3",
   "language": "python",
   "name": "python3"
  },
  "language_info": {
   "codemirror_mode": {
    "name": "ipython",
    "version": 3
   },
   "file_extension": ".py",
   "mimetype": "text/x-python",
   "name": "python",
   "nbconvert_exporter": "python",
   "pygments_lexer": "ipython3",
   "version": "3.8.2"
  }
 },
 "nbformat": 4,
 "nbformat_minor": 4
}
